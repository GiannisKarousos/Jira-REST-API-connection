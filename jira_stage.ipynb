{
 "cells": [
  {
   "cell_type": "code",
   "execution_count": null,
   "metadata": {},
   "outputs": [],
   "source": [
    "#%pip install jira pandas\n",
    "from jira import JIRA\n",
    "import pandas as pd\n",
    "from IPython.display import clear_output\n",
    "#%pip install \"ipython== 8.2.0\"\n",
    "#%pip install \"ipython-genutils == 0.2.0\"\n",
    "#%pip install \"ipywidgets  == 7.6.5\""
   ]
  },
  {
   "attachments": {},
   "cell_type": "markdown",
   "metadata": {},
   "source": [
    "Reading the csv files to get the lenght!"
   ]
  },
  {
   "cell_type": "code",
   "execution_count": null,
   "metadata": {},
   "outputs": [],
   "source": [
    "df_query = pd.read_csv(r'C:\\Users\\data\\Desktop\\Google Shopping Automation\\fetced_data.csv')\n",
    "df_beforeS1 = pd.read_csv(r'C:\\Users\\data\\Desktop\\Google Shopping Automation\\beforeS1.csv')\n",
    "df_nosearch = pd.read_csv(r'C:\\Users\\data\\Desktop\\Google Shopping Automation\\not_for_search.csv')\n",
    "df_afterS1 = pd.read_csv(r'C:\\Users\\data\\Desktop\\Google Shopping Automation\\google_shop_competitors.csv')\n",
    "df_afterS2 = pd.read_csv(r'C:\\Users\\data\\Desktop\\Google Shopping Automation\\GS_final.csv')"
   ]
  },
  {
   "cell_type": "code",
   "execution_count": null,
   "metadata": {},
   "outputs": [],
   "source": [
    "country_code = country_code.upper()"
   ]
  },
  {
   "cell_type": "code",
   "execution_count": null,
   "metadata": {},
   "outputs": [],
   "source": [
    "#https://tgndata.atlassian.net/rest/greenhopper/1.0/rapidview\n",
    "#https://tgndata.atlassian.net/rest/greenhopper/latest/sprintquery/10?includeHistoricSprints=true&includeFutureSprints=true\n",
    "#board id: 10\n",
    "#last sprint_id = 47"
   ]
  },
  {
   "attachments": {},
   "cell_type": "markdown",
   "metadata": {},
   "source": [
    "Setting up the credentials"
   ]
  },
  {
   "cell_type": "code",
   "execution_count": null,
   "metadata": {},
   "outputs": [],
   "source": [
    "jira_url = 'https://tgndata.atlassian.net/'\n",
    "username = 'xxx'\n",
    "api_token = 'xxx'"
   ]
  },
  {
   "cell_type": "code",
   "execution_count": null,
   "metadata": {},
   "outputs": [],
   "source": [
    "#getting the active sprint id\n",
    "import requests\n",
    "from requests.auth import HTTPBasicAuth\n",
    "\n",
    "url = jira_url + 'rest/greenhopper/latest/sprintquery/10?includeHistoricSprints=true&includeFutureSprints=true'\n",
    "\n",
    "r = requests.get(url, auth=HTTPBasicAuth(username, api_token))\n",
    "data = r.json()\n",
    "\n",
    "active_sprints = data['sprints']\n",
    "active_sprint_id = None\n",
    "\n",
    "for sprint in active_sprints:\n",
    "    if sprint['state'] == 'ACTIVE':\n",
    "        sprint_id = sprint['id']\n",
    "        break"
   ]
  },
  {
   "cell_type": "code",
   "execution_count": null,
   "metadata": {},
   "outputs": [],
   "source": [
    "#create Jira connection\n",
    "jira = JIRA(server=jira_url, basic_auth=(username, api_token))"
   ]
  },
  {
   "attachments": {},
   "cell_type": "markdown",
   "metadata": {},
   "source": [
    "Task Details"
   ]
  },
  {
   "cell_type": "code",
   "execution_count": null,
   "metadata": {},
   "outputs": [],
   "source": [
    "project_key = 'DS'\n",
    "issue_type = 'Story'\n",
    "summary = 'Daily Google Procedure ' + str(country_code) #This is a sample task created from Python using jira integration with REST API\n",
    "#reporter = 'Giannis Karousos' #I have this one automated, no need\n",
    "assignee = 'xxx'\n",
    "description = 'From the Database we got a file with ' + str(len(df_query)) + ' rows. | After some cleaning {color:blue} we got ' + '{*}' + str(len(df_beforeS1)) + '{*}' + ' to search for Stage 1 {color} while there were ' + str(len(df_nosearch)) + ' rows ready for the next stage that we do not have to search. | {color:blue}The rows we got after the Stage 1 are: ' + '{*}' + str(len(df_afterS1)) + '{*}' + '{color}. | Summarizing the process, {color:blue} the final file after completing the Stage 2 is: ' + '{*}' + str(len(df_afterS2)) + '{*}' + '.{color}' + ' Bellow you will find the CSVs needed!'\n",
    "#priority = 'High'\n",
    "labels = ['General_Data_Renewal'] #Weekly_Data_Renew, Assortment, General_Data_Renewal\n",
    "#sprint_id = 50 #I must renew this one everytime a new sprint arrives"
   ]
  },
  {
   "cell_type": "code",
   "execution_count": null,
   "metadata": {},
   "outputs": [],
   "source": [
    "#create the issue\n",
    "issue_dict = {\n",
    "    'project': {'key': project_key},\n",
    "    'issuetype': {'name': issue_type},\n",
    "    'summary': summary,\n",
    "    'description': description,\n",
    "    'assignee': {'id': assignee},\n",
    "    'labels': labels,\n",
    "    'customfield_10020': sprint_id #the customfield_10020 is related to our board which has an number id 10 with the latest sprint id\n",
    "}"
   ]
  },
  {
   "attachments": {},
   "cell_type": "markdown",
   "metadata": {},
   "source": [
    "Connection established"
   ]
  },
  {
   "cell_type": "code",
   "execution_count": null,
   "metadata": {},
   "outputs": [],
   "source": [
    "issue = jira.create_issue(fields = issue_dict)"
   ]
  },
  {
   "attachments": {},
   "cell_type": "markdown",
   "metadata": {},
   "source": [
    "Uploading CSV file on the issue"
   ]
  },
  {
   "cell_type": "code",
   "execution_count": null,
   "metadata": {},
   "outputs": [],
   "source": [
    "#list of CSV file paths\n",
    "csv_files = [\n",
    "    r'C:\\Users\\data\\Desktop\\Google Shopping Automation\\fetced_data.csv',\n",
    "    r'C:\\Users\\data\\Desktop\\Google Shopping Automation\\google_shop_competitors.csv',\n",
    "    r'C:\\Users\\data\\Desktop\\Google Shopping Automation\\variance.csv',\n",
    "    r'C:\\Users\\data\\Desktop\\Google Shopping Automation\\GS_images.csv',\n",
    "    r'C:\\Users\\data\\Desktop\\Google Shopping Automation\\GS_final.csv'\n",
    "]\n",
    "\n",
    "#iterate over each CSV file\n",
    "for csv_file in csv_files:\n",
    "    #upload the CSV file as an attachment\n",
    "    attachment = jira.add_attachment(issue=issue, attachment=csv_file)\n",
    "\n",
    "print('The files are up in the task!')"
   ]
  },
  {
   "attachments": {},
   "cell_type": "markdown",
   "metadata": {},
   "source": [
    "Creating the group by from the fetched data"
   ]
  },
  {
   "cell_type": "code",
   "execution_count": null,
   "metadata": {},
   "outputs": [],
   "source": [
    "fetched_path = r'C:\\Users\\data\\Desktop\\Google Shopping Automation\\fetced_data.csv'\n",
    "stage1_answers = r'C:\\Users\\data\\Desktop\\Google Shopping Automation\\GS_final.csv'\n",
    "df_fetched = pd.read_csv(fetched_path)\n",
    "df_fetched.head()"
   ]
  },
  {
   "cell_type": "code",
   "execution_count": null,
   "metadata": {},
   "outputs": [],
   "source": [
    "stage1_answers = pd.read_csv(stage1_answers)\n",
    "stage1_answers = stage1_answers[['PID']].drop_duplicates(keep='first')\n",
    "\n",
    "stage1_answers.head()"
   ]
  },
  {
   "cell_type": "code",
   "execution_count": null,
   "metadata": {},
   "outputs": [],
   "source": [
    "df_fetched['found'] = df_fetched['PID'].apply(lambda x: 'yes' if x in stage1_answers['PID'].values else 'no')\n",
    "grouped_df = df_fetched.groupby('name').agg(count=('found', 'size'), found_yes=('found', lambda x: (x == 'yes').sum())).reset_index()\n",
    "grouped_df"
   ]
  },
  {
   "cell_type": "code",
   "execution_count": null,
   "metadata": {},
   "outputs": [],
   "source": [
    "#%pip install matplotlib\n",
    "#%pip install seaborn\n",
    "import matplotlib.pyplot as plt\n",
    "import seaborn as sns\n",
    "from matplotlib.font_manager import FontProperties\n",
    "\n",
    "# Sort the DataFrame by the 'count' column in ascending order\n",
    "grouped_df = grouped_df.sort_values('count', ascending=True)\n",
    "\n",
    "# Define a color palette with the number of columns in the DataFrame\n",
    "color_palette = sns.color_palette(\"Set2\", len(grouped_df.columns))\n",
    "\n",
    "# Create a stacked bar plot\n",
    "plt.barh(grouped_df['name'], grouped_df['found_yes'], color=color_palette[0])\n",
    "plt.barh(grouped_df['name'], grouped_df['count'] - grouped_df['found_yes'], left=grouped_df['found_yes'], color=color_palette[1])\n",
    "\n",
    "plt.xlabel(\"Request's Count\", fontweight='bold')\n",
    "plt.ylabel(\"Client\", fontweight='bold')\n",
    "plt.title(\"Client's Requests\", fontweight='bold', fontsize=18)\n",
    "\n",
    "# Add legend\n",
    "plt.legend(['Found: Yes', 'Found: No'])\n",
    "\n",
    "# Add vertical grid lines\n",
    "plt.grid(axis='x', linestyle='--', alpha=0.3)\n",
    "\n",
    "# Add count labels next to each bar\n",
    "for i in range(len(grouped_df)):\n",
    "    plt.text(grouped_df['count'].iloc[i], i, f\"{grouped_df['found_yes'].iloc[i]}/{grouped_df['count'].iloc[i]}\",\n",
    "             ha='left', va='center', fontweight='bold')\n",
    "\n",
    "# Adjust the plot layout to make room for the table\n",
    "plt.subplots_adjust(left=0.3, bottom=0.3, right=0.9, top=0.9)  # Adjust the values to modify the margins\n",
    "\n",
    "# Display the plot\n",
    "plt.savefig('client requests&findings.png', format='png', dpi=300)"
   ]
  },
  {
   "cell_type": "code",
   "execution_count": null,
   "metadata": {},
   "outputs": [],
   "source": [
    "plot_filename = r'C:\\Users\\data\\Desktop\\Google Shopping Automation\\client requests&findings.png'  # Replace with the filename used in step 1\n",
    "\n",
    "with open(plot_filename, 'rb') as f:\n",
    "    jira.add_attachment(issue=issue, attachment=f)\n",
    "\n",
    "print('The image client requests&finding is up!')"
   ]
  },
  {
   "cell_type": "code",
   "execution_count": null,
   "metadata": {},
   "outputs": [],
   "source": [
    "print(\"The ticket number is: \" + str(issue.key))"
   ]
  },
  {
   "cell_type": "code",
   "execution_count": null,
   "metadata": {},
   "outputs": [],
   "source": [
    "clear_output()"
   ]
  }
 ],
 "metadata": {
  "kernelspec": {
   "display_name": "Python 3",
   "language": "python",
   "name": "python3"
  },
  "language_info": {
   "codemirror_mode": {
    "name": "ipython",
    "version": 3
   },
   "file_extension": ".py",
   "mimetype": "text/x-python",
   "name": "python",
   "nbconvert_exporter": "python",
   "pygments_lexer": "ipython3",
   "version": "3.11.3"
  },
  "orig_nbformat": 4
 },
 "nbformat": 4,
 "nbformat_minor": 2
}
